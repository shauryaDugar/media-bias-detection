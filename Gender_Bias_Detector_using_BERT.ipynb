{
  "nbformat": 4,
  "nbformat_minor": 0,
  "metadata": {
    "colab": {
      "provenance": [],
      "gpuType": "T4",
      "authorship_tag": "ABX9TyNWl08M4Gzj9WDJcwxhkdKR",
      "include_colab_link": true
    },
    "kernelspec": {
      "name": "python3",
      "display_name": "Python 3"
    },
    "language_info": {
      "name": "python"
    },
    "accelerator": "GPU",
    "widgets": {
      "application/vnd.jupyter.widget-state+json": {
        "5e09f0353d2e45f797ee29256e143431": {
          "model_module": "@jupyter-widgets/controls",
          "model_name": "HBoxModel",
          "model_module_version": "1.5.0",
          "state": {
            "_dom_classes": [],
            "_model_module": "@jupyter-widgets/controls",
            "_model_module_version": "1.5.0",
            "_model_name": "HBoxModel",
            "_view_count": null,
            "_view_module": "@jupyter-widgets/controls",
            "_view_module_version": "1.5.0",
            "_view_name": "HBoxView",
            "box_style": "",
            "children": [
              "IPY_MODEL_40ce254562774ad9acbff6ff36fb6f55",
              "IPY_MODEL_f9fbe25b4d5b449c888a38bbc76751af",
              "IPY_MODEL_ebd3630436b041c7a30ce4859d1c49da"
            ],
            "layout": "IPY_MODEL_98fc8613f69c45e5a223a205a0ba7b1e"
          }
        },
        "40ce254562774ad9acbff6ff36fb6f55": {
          "model_module": "@jupyter-widgets/controls",
          "model_name": "HTMLModel",
          "model_module_version": "1.5.0",
          "state": {
            "_dom_classes": [],
            "_model_module": "@jupyter-widgets/controls",
            "_model_module_version": "1.5.0",
            "_model_name": "HTMLModel",
            "_view_count": null,
            "_view_module": "@jupyter-widgets/controls",
            "_view_module_version": "1.5.0",
            "_view_name": "HTMLView",
            "description": "",
            "description_tooltip": null,
            "layout": "IPY_MODEL_eb571658cb6948eea2ca63dbfa7d03ef",
            "placeholder": "​",
            "style": "IPY_MODEL_e6e243e46071411595fe917fe51812f4",
            "value": "Map: 100%"
          }
        },
        "f9fbe25b4d5b449c888a38bbc76751af": {
          "model_module": "@jupyter-widgets/controls",
          "model_name": "FloatProgressModel",
          "model_module_version": "1.5.0",
          "state": {
            "_dom_classes": [],
            "_model_module": "@jupyter-widgets/controls",
            "_model_module_version": "1.5.0",
            "_model_name": "FloatProgressModel",
            "_view_count": null,
            "_view_module": "@jupyter-widgets/controls",
            "_view_module_version": "1.5.0",
            "_view_name": "ProgressView",
            "bar_style": "success",
            "description": "",
            "description_tooltip": null,
            "layout": "IPY_MODEL_599a46eccb4c4d00be81b8cb35a6a23d",
            "max": 14352,
            "min": 0,
            "orientation": "horizontal",
            "style": "IPY_MODEL_0f62b0a34ead41b2a0642cead271fc12",
            "value": 14352
          }
        },
        "ebd3630436b041c7a30ce4859d1c49da": {
          "model_module": "@jupyter-widgets/controls",
          "model_name": "HTMLModel",
          "model_module_version": "1.5.0",
          "state": {
            "_dom_classes": [],
            "_model_module": "@jupyter-widgets/controls",
            "_model_module_version": "1.5.0",
            "_model_name": "HTMLModel",
            "_view_count": null,
            "_view_module": "@jupyter-widgets/controls",
            "_view_module_version": "1.5.0",
            "_view_name": "HTMLView",
            "description": "",
            "description_tooltip": null,
            "layout": "IPY_MODEL_463b31d8dcbe4c368d619a8cc40ceea5",
            "placeholder": "​",
            "style": "IPY_MODEL_0a8d6408ca9a4b1d8ec4f1cf7f886d13",
            "value": " 14352/14352 [00:08&lt;00:00, 1522.80 examples/s]"
          }
        },
        "98fc8613f69c45e5a223a205a0ba7b1e": {
          "model_module": "@jupyter-widgets/base",
          "model_name": "LayoutModel",
          "model_module_version": "1.2.0",
          "state": {
            "_model_module": "@jupyter-widgets/base",
            "_model_module_version": "1.2.0",
            "_model_name": "LayoutModel",
            "_view_count": null,
            "_view_module": "@jupyter-widgets/base",
            "_view_module_version": "1.2.0",
            "_view_name": "LayoutView",
            "align_content": null,
            "align_items": null,
            "align_self": null,
            "border": null,
            "bottom": null,
            "display": null,
            "flex": null,
            "flex_flow": null,
            "grid_area": null,
            "grid_auto_columns": null,
            "grid_auto_flow": null,
            "grid_auto_rows": null,
            "grid_column": null,
            "grid_gap": null,
            "grid_row": null,
            "grid_template_areas": null,
            "grid_template_columns": null,
            "grid_template_rows": null,
            "height": null,
            "justify_content": null,
            "justify_items": null,
            "left": null,
            "margin": null,
            "max_height": null,
            "max_width": null,
            "min_height": null,
            "min_width": null,
            "object_fit": null,
            "object_position": null,
            "order": null,
            "overflow": null,
            "overflow_x": null,
            "overflow_y": null,
            "padding": null,
            "right": null,
            "top": null,
            "visibility": null,
            "width": null
          }
        },
        "eb571658cb6948eea2ca63dbfa7d03ef": {
          "model_module": "@jupyter-widgets/base",
          "model_name": "LayoutModel",
          "model_module_version": "1.2.0",
          "state": {
            "_model_module": "@jupyter-widgets/base",
            "_model_module_version": "1.2.0",
            "_model_name": "LayoutModel",
            "_view_count": null,
            "_view_module": "@jupyter-widgets/base",
            "_view_module_version": "1.2.0",
            "_view_name": "LayoutView",
            "align_content": null,
            "align_items": null,
            "align_self": null,
            "border": null,
            "bottom": null,
            "display": null,
            "flex": null,
            "flex_flow": null,
            "grid_area": null,
            "grid_auto_columns": null,
            "grid_auto_flow": null,
            "grid_auto_rows": null,
            "grid_column": null,
            "grid_gap": null,
            "grid_row": null,
            "grid_template_areas": null,
            "grid_template_columns": null,
            "grid_template_rows": null,
            "height": null,
            "justify_content": null,
            "justify_items": null,
            "left": null,
            "margin": null,
            "max_height": null,
            "max_width": null,
            "min_height": null,
            "min_width": null,
            "object_fit": null,
            "object_position": null,
            "order": null,
            "overflow": null,
            "overflow_x": null,
            "overflow_y": null,
            "padding": null,
            "right": null,
            "top": null,
            "visibility": null,
            "width": null
          }
        },
        "e6e243e46071411595fe917fe51812f4": {
          "model_module": "@jupyter-widgets/controls",
          "model_name": "DescriptionStyleModel",
          "model_module_version": "1.5.0",
          "state": {
            "_model_module": "@jupyter-widgets/controls",
            "_model_module_version": "1.5.0",
            "_model_name": "DescriptionStyleModel",
            "_view_count": null,
            "_view_module": "@jupyter-widgets/base",
            "_view_module_version": "1.2.0",
            "_view_name": "StyleView",
            "description_width": ""
          }
        },
        "599a46eccb4c4d00be81b8cb35a6a23d": {
          "model_module": "@jupyter-widgets/base",
          "model_name": "LayoutModel",
          "model_module_version": "1.2.0",
          "state": {
            "_model_module": "@jupyter-widgets/base",
            "_model_module_version": "1.2.0",
            "_model_name": "LayoutModel",
            "_view_count": null,
            "_view_module": "@jupyter-widgets/base",
            "_view_module_version": "1.2.0",
            "_view_name": "LayoutView",
            "align_content": null,
            "align_items": null,
            "align_self": null,
            "border": null,
            "bottom": null,
            "display": null,
            "flex": null,
            "flex_flow": null,
            "grid_area": null,
            "grid_auto_columns": null,
            "grid_auto_flow": null,
            "grid_auto_rows": null,
            "grid_column": null,
            "grid_gap": null,
            "grid_row": null,
            "grid_template_areas": null,
            "grid_template_columns": null,
            "grid_template_rows": null,
            "height": null,
            "justify_content": null,
            "justify_items": null,
            "left": null,
            "margin": null,
            "max_height": null,
            "max_width": null,
            "min_height": null,
            "min_width": null,
            "object_fit": null,
            "object_position": null,
            "order": null,
            "overflow": null,
            "overflow_x": null,
            "overflow_y": null,
            "padding": null,
            "right": null,
            "top": null,
            "visibility": null,
            "width": null
          }
        },
        "0f62b0a34ead41b2a0642cead271fc12": {
          "model_module": "@jupyter-widgets/controls",
          "model_name": "ProgressStyleModel",
          "model_module_version": "1.5.0",
          "state": {
            "_model_module": "@jupyter-widgets/controls",
            "_model_module_version": "1.5.0",
            "_model_name": "ProgressStyleModel",
            "_view_count": null,
            "_view_module": "@jupyter-widgets/base",
            "_view_module_version": "1.2.0",
            "_view_name": "StyleView",
            "bar_color": null,
            "description_width": ""
          }
        },
        "463b31d8dcbe4c368d619a8cc40ceea5": {
          "model_module": "@jupyter-widgets/base",
          "model_name": "LayoutModel",
          "model_module_version": "1.2.0",
          "state": {
            "_model_module": "@jupyter-widgets/base",
            "_model_module_version": "1.2.0",
            "_model_name": "LayoutModel",
            "_view_count": null,
            "_view_module": "@jupyter-widgets/base",
            "_view_module_version": "1.2.0",
            "_view_name": "LayoutView",
            "align_content": null,
            "align_items": null,
            "align_self": null,
            "border": null,
            "bottom": null,
            "display": null,
            "flex": null,
            "flex_flow": null,
            "grid_area": null,
            "grid_auto_columns": null,
            "grid_auto_flow": null,
            "grid_auto_rows": null,
            "grid_column": null,
            "grid_gap": null,
            "grid_row": null,
            "grid_template_areas": null,
            "grid_template_columns": null,
            "grid_template_rows": null,
            "height": null,
            "justify_content": null,
            "justify_items": null,
            "left": null,
            "margin": null,
            "max_height": null,
            "max_width": null,
            "min_height": null,
            "min_width": null,
            "object_fit": null,
            "object_position": null,
            "order": null,
            "overflow": null,
            "overflow_x": null,
            "overflow_y": null,
            "padding": null,
            "right": null,
            "top": null,
            "visibility": null,
            "width": null
          }
        },
        "0a8d6408ca9a4b1d8ec4f1cf7f886d13": {
          "model_module": "@jupyter-widgets/controls",
          "model_name": "DescriptionStyleModel",
          "model_module_version": "1.5.0",
          "state": {
            "_model_module": "@jupyter-widgets/controls",
            "_model_module_version": "1.5.0",
            "_model_name": "DescriptionStyleModel",
            "_view_count": null,
            "_view_module": "@jupyter-widgets/base",
            "_view_module_version": "1.2.0",
            "_view_name": "StyleView",
            "description_width": ""
          }
        },
        "9c03c78ab55843a5bbe38fe0ae0aa3dd": {
          "model_module": "@jupyter-widgets/controls",
          "model_name": "HBoxModel",
          "model_module_version": "1.5.0",
          "state": {
            "_dom_classes": [],
            "_model_module": "@jupyter-widgets/controls",
            "_model_module_version": "1.5.0",
            "_model_name": "HBoxModel",
            "_view_count": null,
            "_view_module": "@jupyter-widgets/controls",
            "_view_module_version": "1.5.0",
            "_view_name": "HBoxView",
            "box_style": "",
            "children": [
              "IPY_MODEL_1861a20840474e54a5d6cb1681510bca",
              "IPY_MODEL_e1d30dd09cee4c51b3acac0a3c3493d6",
              "IPY_MODEL_a3905fa6bd754e47ae91af26df3d4338"
            ],
            "layout": "IPY_MODEL_7cb6f8163d51451d99bd5dcfcd4da480"
          }
        },
        "1861a20840474e54a5d6cb1681510bca": {
          "model_module": "@jupyter-widgets/controls",
          "model_name": "HTMLModel",
          "model_module_version": "1.5.0",
          "state": {
            "_dom_classes": [],
            "_model_module": "@jupyter-widgets/controls",
            "_model_module_version": "1.5.0",
            "_model_name": "HTMLModel",
            "_view_count": null,
            "_view_module": "@jupyter-widgets/controls",
            "_view_module_version": "1.5.0",
            "_view_name": "HTMLView",
            "description": "",
            "description_tooltip": null,
            "layout": "IPY_MODEL_9320227ceda242d092571e7d022777cb",
            "placeholder": "​",
            "style": "IPY_MODEL_01213f483dff40dba1194a14eee0ae96",
            "value": "Map: 100%"
          }
        },
        "e1d30dd09cee4c51b3acac0a3c3493d6": {
          "model_module": "@jupyter-widgets/controls",
          "model_name": "FloatProgressModel",
          "model_module_version": "1.5.0",
          "state": {
            "_dom_classes": [],
            "_model_module": "@jupyter-widgets/controls",
            "_model_module_version": "1.5.0",
            "_model_name": "FloatProgressModel",
            "_view_count": null,
            "_view_module": "@jupyter-widgets/controls",
            "_view_module_version": "1.5.0",
            "_view_name": "ProgressView",
            "bar_style": "success",
            "description": "",
            "description_tooltip": null,
            "layout": "IPY_MODEL_e85dd2df0b484bf486fa6556f723499a",
            "max": 3588,
            "min": 0,
            "orientation": "horizontal",
            "style": "IPY_MODEL_9570a9a80ce740ba8d388fda01a7f98b",
            "value": 3588
          }
        },
        "a3905fa6bd754e47ae91af26df3d4338": {
          "model_module": "@jupyter-widgets/controls",
          "model_name": "HTMLModel",
          "model_module_version": "1.5.0",
          "state": {
            "_dom_classes": [],
            "_model_module": "@jupyter-widgets/controls",
            "_model_module_version": "1.5.0",
            "_model_name": "HTMLModel",
            "_view_count": null,
            "_view_module": "@jupyter-widgets/controls",
            "_view_module_version": "1.5.0",
            "_view_name": "HTMLView",
            "description": "",
            "description_tooltip": null,
            "layout": "IPY_MODEL_87241174218146aa983a4bcb509a21c8",
            "placeholder": "​",
            "style": "IPY_MODEL_3399f243a3fa4bb5a9635ab1feec8803",
            "value": " 3588/3588 [00:01&lt;00:00, 2301.88 examples/s]"
          }
        },
        "7cb6f8163d51451d99bd5dcfcd4da480": {
          "model_module": "@jupyter-widgets/base",
          "model_name": "LayoutModel",
          "model_module_version": "1.2.0",
          "state": {
            "_model_module": "@jupyter-widgets/base",
            "_model_module_version": "1.2.0",
            "_model_name": "LayoutModel",
            "_view_count": null,
            "_view_module": "@jupyter-widgets/base",
            "_view_module_version": "1.2.0",
            "_view_name": "LayoutView",
            "align_content": null,
            "align_items": null,
            "align_self": null,
            "border": null,
            "bottom": null,
            "display": null,
            "flex": null,
            "flex_flow": null,
            "grid_area": null,
            "grid_auto_columns": null,
            "grid_auto_flow": null,
            "grid_auto_rows": null,
            "grid_column": null,
            "grid_gap": null,
            "grid_row": null,
            "grid_template_areas": null,
            "grid_template_columns": null,
            "grid_template_rows": null,
            "height": null,
            "justify_content": null,
            "justify_items": null,
            "left": null,
            "margin": null,
            "max_height": null,
            "max_width": null,
            "min_height": null,
            "min_width": null,
            "object_fit": null,
            "object_position": null,
            "order": null,
            "overflow": null,
            "overflow_x": null,
            "overflow_y": null,
            "padding": null,
            "right": null,
            "top": null,
            "visibility": null,
            "width": null
          }
        },
        "9320227ceda242d092571e7d022777cb": {
          "model_module": "@jupyter-widgets/base",
          "model_name": "LayoutModel",
          "model_module_version": "1.2.0",
          "state": {
            "_model_module": "@jupyter-widgets/base",
            "_model_module_version": "1.2.0",
            "_model_name": "LayoutModel",
            "_view_count": null,
            "_view_module": "@jupyter-widgets/base",
            "_view_module_version": "1.2.0",
            "_view_name": "LayoutView",
            "align_content": null,
            "align_items": null,
            "align_self": null,
            "border": null,
            "bottom": null,
            "display": null,
            "flex": null,
            "flex_flow": null,
            "grid_area": null,
            "grid_auto_columns": null,
            "grid_auto_flow": null,
            "grid_auto_rows": null,
            "grid_column": null,
            "grid_gap": null,
            "grid_row": null,
            "grid_template_areas": null,
            "grid_template_columns": null,
            "grid_template_rows": null,
            "height": null,
            "justify_content": null,
            "justify_items": null,
            "left": null,
            "margin": null,
            "max_height": null,
            "max_width": null,
            "min_height": null,
            "min_width": null,
            "object_fit": null,
            "object_position": null,
            "order": null,
            "overflow": null,
            "overflow_x": null,
            "overflow_y": null,
            "padding": null,
            "right": null,
            "top": null,
            "visibility": null,
            "width": null
          }
        },
        "01213f483dff40dba1194a14eee0ae96": {
          "model_module": "@jupyter-widgets/controls",
          "model_name": "DescriptionStyleModel",
          "model_module_version": "1.5.0",
          "state": {
            "_model_module": "@jupyter-widgets/controls",
            "_model_module_version": "1.5.0",
            "_model_name": "DescriptionStyleModel",
            "_view_count": null,
            "_view_module": "@jupyter-widgets/base",
            "_view_module_version": "1.2.0",
            "_view_name": "StyleView",
            "description_width": ""
          }
        },
        "e85dd2df0b484bf486fa6556f723499a": {
          "model_module": "@jupyter-widgets/base",
          "model_name": "LayoutModel",
          "model_module_version": "1.2.0",
          "state": {
            "_model_module": "@jupyter-widgets/base",
            "_model_module_version": "1.2.0",
            "_model_name": "LayoutModel",
            "_view_count": null,
            "_view_module": "@jupyter-widgets/base",
            "_view_module_version": "1.2.0",
            "_view_name": "LayoutView",
            "align_content": null,
            "align_items": null,
            "align_self": null,
            "border": null,
            "bottom": null,
            "display": null,
            "flex": null,
            "flex_flow": null,
            "grid_area": null,
            "grid_auto_columns": null,
            "grid_auto_flow": null,
            "grid_auto_rows": null,
            "grid_column": null,
            "grid_gap": null,
            "grid_row": null,
            "grid_template_areas": null,
            "grid_template_columns": null,
            "grid_template_rows": null,
            "height": null,
            "justify_content": null,
            "justify_items": null,
            "left": null,
            "margin": null,
            "max_height": null,
            "max_width": null,
            "min_height": null,
            "min_width": null,
            "object_fit": null,
            "object_position": null,
            "order": null,
            "overflow": null,
            "overflow_x": null,
            "overflow_y": null,
            "padding": null,
            "right": null,
            "top": null,
            "visibility": null,
            "width": null
          }
        },
        "9570a9a80ce740ba8d388fda01a7f98b": {
          "model_module": "@jupyter-widgets/controls",
          "model_name": "ProgressStyleModel",
          "model_module_version": "1.5.0",
          "state": {
            "_model_module": "@jupyter-widgets/controls",
            "_model_module_version": "1.5.0",
            "_model_name": "ProgressStyleModel",
            "_view_count": null,
            "_view_module": "@jupyter-widgets/base",
            "_view_module_version": "1.2.0",
            "_view_name": "StyleView",
            "bar_color": null,
            "description_width": ""
          }
        },
        "87241174218146aa983a4bcb509a21c8": {
          "model_module": "@jupyter-widgets/base",
          "model_name": "LayoutModel",
          "model_module_version": "1.2.0",
          "state": {
            "_model_module": "@jupyter-widgets/base",
            "_model_module_version": "1.2.0",
            "_model_name": "LayoutModel",
            "_view_count": null,
            "_view_module": "@jupyter-widgets/base",
            "_view_module_version": "1.2.0",
            "_view_name": "LayoutView",
            "align_content": null,
            "align_items": null,
            "align_self": null,
            "border": null,
            "bottom": null,
            "display": null,
            "flex": null,
            "flex_flow": null,
            "grid_area": null,
            "grid_auto_columns": null,
            "grid_auto_flow": null,
            "grid_auto_rows": null,
            "grid_column": null,
            "grid_gap": null,
            "grid_row": null,
            "grid_template_areas": null,
            "grid_template_columns": null,
            "grid_template_rows": null,
            "height": null,
            "justify_content": null,
            "justify_items": null,
            "left": null,
            "margin": null,
            "max_height": null,
            "max_width": null,
            "min_height": null,
            "min_width": null,
            "object_fit": null,
            "object_position": null,
            "order": null,
            "overflow": null,
            "overflow_x": null,
            "overflow_y": null,
            "padding": null,
            "right": null,
            "top": null,
            "visibility": null,
            "width": null
          }
        },
        "3399f243a3fa4bb5a9635ab1feec8803": {
          "model_module": "@jupyter-widgets/controls",
          "model_name": "DescriptionStyleModel",
          "model_module_version": "1.5.0",
          "state": {
            "_model_module": "@jupyter-widgets/controls",
            "_model_module_version": "1.5.0",
            "_model_name": "DescriptionStyleModel",
            "_view_count": null,
            "_view_module": "@jupyter-widgets/base",
            "_view_module_version": "1.2.0",
            "_view_name": "StyleView",
            "description_width": ""
          }
        }
      }
    }
  },
  "cells": [
    {
      "cell_type": "markdown",
      "metadata": {
        "id": "view-in-github",
        "colab_type": "text"
      },
      "source": [
        "<a href=\"https://colab.research.google.com/github/shauryaDugar/media-bias-detection/blob/main/Gender_Bias_Detector_using_BERT.ipynb\" target=\"_parent\"><img src=\"https://colab.research.google.com/assets/colab-badge.svg\" alt=\"Open In Colab\"/></a>"
      ]
    },
    {
      "cell_type": "markdown",
      "source": [
        "# Gender Bias Detection in Media Content by Fine Tuning Pre-Trained Transformers\n",
        "\n",
        "---\n",
        "\n",
        "This colab notebook contains code to fine tune 5 Pre-trained Transformer models on a gender bias sequence classification task. The dataset has been taken from mbib-full's dataset [gender-bias.csv](https://huggingface.co/datasets/mediabiasgroup/mbib-base/tree/main/mbib-aggregated)\n",
        "\n",
        "The 5 Pre-trained Transformers used in this notebook are:\n",
        "\n",
        "\n",
        "1.   XLNet\n",
        "2.   ELECTRA\n",
        "3.   RoBERTa\n",
        "4.   BERT\n",
        "5.   GPT-2\n",
        "\n",
        "Just uncomment the model that you want to use in the cells below to be able to use it. Also, some models like the xlnet might be too big to fit in Google Colab/Kaggle's GPU RAM. Code to prevent RAM from getting exhausted will soon be updated.\n",
        "\n",
        "\n",
        "\n",
        "\n",
        "\n"
      ],
      "metadata": {
        "id": "HSBZ3YU7cI4K"
      }
    },
    {
      "cell_type": "markdown",
      "source": [
        "Installing datasets Python package"
      ],
      "metadata": {
        "id": "uxnTl__ui8mH"
      }
    },
    {
      "cell_type": "code",
      "source": [
        "!pip install datasets\n",
        "!pip install pynvml"
      ],
      "metadata": {
        "colab": {
          "base_uri": "https://localhost:8080/"
        },
        "id": "pDvREMXQWOmQ",
        "outputId": "960a8e8a-37ff-47a7-effb-549c09e9a87d"
      },
      "execution_count": 1,
      "outputs": [
        {
          "output_type": "stream",
          "name": "stdout",
          "text": [
            "Requirement already satisfied: datasets in /usr/local/lib/python3.10/dist-packages (2.16.1)\n",
            "Requirement already satisfied: filelock in /usr/local/lib/python3.10/dist-packages (from datasets) (3.13.1)\n",
            "Requirement already satisfied: numpy>=1.17 in /usr/local/lib/python3.10/dist-packages (from datasets) (1.23.5)\n",
            "Requirement already satisfied: pyarrow>=8.0.0 in /usr/local/lib/python3.10/dist-packages (from datasets) (10.0.1)\n",
            "Requirement already satisfied: pyarrow-hotfix in /usr/local/lib/python3.10/dist-packages (from datasets) (0.6)\n",
            "Requirement already satisfied: dill<0.3.8,>=0.3.0 in /usr/local/lib/python3.10/dist-packages (from datasets) (0.3.7)\n",
            "Requirement already satisfied: pandas in /usr/local/lib/python3.10/dist-packages (from datasets) (1.5.3)\n",
            "Requirement already satisfied: requests>=2.19.0 in /usr/local/lib/python3.10/dist-packages (from datasets) (2.31.0)\n",
            "Requirement already satisfied: tqdm>=4.62.1 in /usr/local/lib/python3.10/dist-packages (from datasets) (4.66.1)\n",
            "Requirement already satisfied: xxhash in /usr/local/lib/python3.10/dist-packages (from datasets) (3.4.1)\n",
            "Requirement already satisfied: multiprocess in /usr/local/lib/python3.10/dist-packages (from datasets) (0.70.15)\n",
            "Requirement already satisfied: fsspec[http]<=2023.10.0,>=2023.1.0 in /usr/local/lib/python3.10/dist-packages (from datasets) (2023.6.0)\n",
            "Requirement already satisfied: aiohttp in /usr/local/lib/python3.10/dist-packages (from datasets) (3.9.3)\n",
            "Requirement already satisfied: huggingface-hub>=0.19.4 in /usr/local/lib/python3.10/dist-packages (from datasets) (0.20.3)\n",
            "Requirement already satisfied: packaging in /usr/local/lib/python3.10/dist-packages (from datasets) (23.2)\n",
            "Requirement already satisfied: pyyaml>=5.1 in /usr/local/lib/python3.10/dist-packages (from datasets) (6.0.1)\n",
            "Requirement already satisfied: aiosignal>=1.1.2 in /usr/local/lib/python3.10/dist-packages (from aiohttp->datasets) (1.3.1)\n",
            "Requirement already satisfied: attrs>=17.3.0 in /usr/local/lib/python3.10/dist-packages (from aiohttp->datasets) (23.2.0)\n",
            "Requirement already satisfied: frozenlist>=1.1.1 in /usr/local/lib/python3.10/dist-packages (from aiohttp->datasets) (1.4.1)\n",
            "Requirement already satisfied: multidict<7.0,>=4.5 in /usr/local/lib/python3.10/dist-packages (from aiohttp->datasets) (6.0.5)\n",
            "Requirement already satisfied: yarl<2.0,>=1.0 in /usr/local/lib/python3.10/dist-packages (from aiohttp->datasets) (1.9.4)\n",
            "Requirement already satisfied: async-timeout<5.0,>=4.0 in /usr/local/lib/python3.10/dist-packages (from aiohttp->datasets) (4.0.3)\n",
            "Requirement already satisfied: typing-extensions>=3.7.4.3 in /usr/local/lib/python3.10/dist-packages (from huggingface-hub>=0.19.4->datasets) (4.9.0)\n",
            "Requirement already satisfied: charset-normalizer<4,>=2 in /usr/local/lib/python3.10/dist-packages (from requests>=2.19.0->datasets) (3.3.2)\n",
            "Requirement already satisfied: idna<4,>=2.5 in /usr/local/lib/python3.10/dist-packages (from requests>=2.19.0->datasets) (3.6)\n",
            "Requirement already satisfied: urllib3<3,>=1.21.1 in /usr/local/lib/python3.10/dist-packages (from requests>=2.19.0->datasets) (2.0.7)\n",
            "Requirement already satisfied: certifi>=2017.4.17 in /usr/local/lib/python3.10/dist-packages (from requests>=2.19.0->datasets) (2024.2.2)\n",
            "Requirement already satisfied: python-dateutil>=2.8.1 in /usr/local/lib/python3.10/dist-packages (from pandas->datasets) (2.8.2)\n",
            "Requirement already satisfied: pytz>=2020.1 in /usr/local/lib/python3.10/dist-packages (from pandas->datasets) (2023.4)\n",
            "Requirement already satisfied: six>=1.5 in /usr/local/lib/python3.10/dist-packages (from python-dateutil>=2.8.1->pandas->datasets) (1.16.0)\n",
            "Requirement already satisfied: pynvml in /usr/local/lib/python3.10/dist-packages (11.5.0)\n"
          ]
        }
      ]
    },
    {
      "cell_type": "markdown",
      "source": [
        "Importing all the required libraries"
      ],
      "metadata": {
        "id": "h_Tzbl5ijKpE"
      }
    },
    {
      "cell_type": "code",
      "source": [
        "from transformers import AutoTokenizer, TFAutoModelForSequenceClassification\n",
        "import tensorflow as tf\n",
        "from datasets import Dataset, load_dataset\n",
        "from sklearn.model_selection import train_test_split\n",
        "from sklearn import metrics\n",
        "import pandas as pd\n",
        "import numpy as np\n",
        "import matplotlib.pyplot as plt\n",
        "import seaborn as sns"
      ],
      "metadata": {
        "id": "-BWFGidajUHD"
      },
      "execution_count": 2,
      "outputs": []
    },
    {
      "cell_type": "code",
      "source": [
        "# importing a library that helps with knowing the amount of GPU memory that is occupied\n",
        "from pynvml import *\n",
        "\n",
        "\n",
        "def print_gpu_utilization():\n",
        "    nvmlInit()\n",
        "    handle = nvmlDeviceGetHandleByIndex(0)\n",
        "    info = nvmlDeviceGetMemoryInfo(handle)\n",
        "    print(f\"GPU memory occupied: {info.used//1024**2} MB.\")\n",
        "\n",
        "print_gpu_utilization()"
      ],
      "metadata": {
        "colab": {
          "base_uri": "https://localhost:8080/"
        },
        "id": "dYR8I8vwlUfy",
        "outputId": "4a2eebf9-40d6-4fbe-91e2-d82e965054aa"
      },
      "execution_count": 3,
      "outputs": [
        {
          "output_type": "stream",
          "name": "stdout",
          "text": [
            "GPU memory occupied: 258 MB.\n"
          ]
        }
      ]
    },
    {
      "cell_type": "markdown",
      "source": [
        "Upload the gender-bias.csv to session storage in colab and then run the next cell to load and preview the dataset."
      ],
      "metadata": {
        "id": "gITLnfb1pSTj"
      }
    },
    {
      "cell_type": "code",
      "execution_count": 4,
      "metadata": {
        "colab": {
          "base_uri": "https://localhost:8080/"
        },
        "id": "HvxxipcPG4Ob",
        "outputId": "e88bf5f1-d021-44a1-e0f4-a391fb700b5c"
      },
      "outputs": [
        {
          "output_type": "stream",
          "name": "stdout",
          "text": [
            "Original Dataset: \n",
            "\n",
            "         id                                               text  label  \\\n",
            "0  075-2318  so what youre saying is blacks are more likely...      0   \n",
            "1  075-2930  dont forget that they think blacks are too stu...      0   \n",
            "2  107-3192  There is no way I d be eating that entree it s...      0   \n",
            "3  075-2850  doctor stranges girlfriend is not a nurse shes...      1   \n",
            "4  106-1124  It is not how much you are paid that matters B...      0   \n",
            "\n",
            "   dataset_id  \n",
            "0          75  \n",
            "1          75  \n",
            "2         107  \n",
            "3          75  \n",
            "4         106  \n",
            "\n",
            "\n",
            "Simplified Dataset: \n",
            "\n",
            "                                                text  label\n",
            "0  so what youre saying is blacks are more likely...      0\n",
            "1  dont forget that they think blacks are too stu...      0\n",
            "2  There is no way I d be eating that entree it s...      0\n",
            "3  doctor stranges girlfriend is not a nurse shes...      1\n",
            "4  It is not how much you are paid that matters B...      0\n"
          ]
        }
      ],
      "source": [
        "gender_bias_ds = pd.read_csv('/content/gender-bias.csv')\n",
        "gender_bias_ds = gender_bias_ds.convert_dtypes()\n",
        "print(\"Original Dataset: \\n\")\n",
        "print(gender_bias_ds.head(5))\n",
        "print(\"\\n\\nSimplified Dataset: \\n\")\n",
        "simple_ds = gender_bias_ds[['text', 'label']]\n",
        "print(simple_ds.head(5))\n",
        "train_df, test_df = train_test_split(simple_ds, test_size=0.2, random_state=42)\n",
        "\n",
        "train_df.reset_index(drop=True, inplace=True)\n",
        "test_df.reset_index(drop=True, inplace=True)\n",
        "\n",
        "train_ds = Dataset.from_pandas(train_df)\n",
        "test_ds = Dataset.from_pandas(test_df)"
      ]
    },
    {
      "cell_type": "code",
      "source": [
        "print_gpu_utilization()"
      ],
      "metadata": {
        "colab": {
          "base_uri": "https://localhost:8080/"
        },
        "id": "fZoy0ByUldsW",
        "outputId": "1ef42f61-266a-4bf8-df0b-af04859953ec"
      },
      "execution_count": 5,
      "outputs": [
        {
          "output_type": "stream",
          "name": "stdout",
          "text": [
            "GPU memory occupied: 258 MB.\n"
          ]
        }
      ]
    },
    {
      "cell_type": "markdown",
      "source": [
        "A list of all tokenizers and models that can be used for sequence classification. Just uncomment the lines of the model that you want to use."
      ],
      "metadata": {
        "id": "upZqwKtnsxUt"
      }
    },
    {
      "cell_type": "code",
      "source": [
        "# xlnet_tokenizer = AutoTokenizer.from_pretrained(\"xlnet-base-cased\")\n",
        "# xlnet_model = TFAutoModelForSequenceClassification.from_pretrained(\"xlnet-base-cased\")\n",
        "\n",
        "# electra_tokenizer = AutoTokenizer.from_pretrained(\"bhadresh-savani/electra-base-emotion\")\n",
        "# electra_model = TFAutoModelForSequenceClassification.from_pretrained(\"bhadresh-savani/electra-base-emotion\")\n",
        "\n",
        "# roberta_tokenizer = AutoTokenizer.from_pretrained(\"cardiffnlp/twitter-roberta-base-emotion\")\n",
        "# roberta_model = TFAutoModelForSequenceClassification.from_pretrained(\"cardiffnlp/twitter-roberta-base-emotion\")\n",
        "\n",
        "bert_tokenizer = AutoTokenizer.from_pretrained(\"bert-base-cased\")\n",
        "bert_model = TFAutoModelForSequenceClassification.from_pretrained(\"bert-base-cased\")\n",
        "\n",
        "# gpt2_tokenizer = AutoTokenizer.from_pretrained(\"microsoft/DialogRPT-updown\")\n",
        "# gpt2_model = TFAutoModelForSequenceClassification.from_pretrained(\"microsoft/DialogRPT-updown\", from_pt=True)\n",
        "\n",
        "\n",
        "tokenizers_and_models = [('bert', bert_tokenizer, bert_model)]\n",
        "                        #  ('xlnet', xlnet_tokenizer, xlnet_model),\n",
        "                        #  ('electra', electra_tokenizer, electra_model),\n",
        "                        #  ('roberta', roberta_tokenizer, roberta_model),\n",
        "                        #  ('gpt2', gpt2_tokenizer, gpt2_model)]\n",
        "\n",
        "model_metrics_df = pd.DataFrame(columns = ['name', 'accuracy', 'f1-score', 'precision', 'recall'])"
      ],
      "metadata": {
        "colab": {
          "base_uri": "https://localhost:8080/"
        },
        "id": "aJT2CDJar2Nt",
        "outputId": "74b995dd-1354-4893-f791-1c66258c6321"
      },
      "execution_count": 6,
      "outputs": [
        {
          "output_type": "stream",
          "name": "stderr",
          "text": [
            "/usr/local/lib/python3.10/dist-packages/huggingface_hub/utils/_token.py:88: UserWarning: \n",
            "The secret `HF_TOKEN` does not exist in your Colab secrets.\n",
            "To authenticate with the Hugging Face Hub, create a token in your settings tab (https://huggingface.co/settings/tokens), set it as secret in your Google Colab and restart your session.\n",
            "You will be able to reuse this secret in all of your notebooks.\n",
            "Please note that authentication is recommended but still optional to access public models or datasets.\n",
            "  warnings.warn(\n",
            "All PyTorch model weights were used when initializing TFBertForSequenceClassification.\n",
            "\n",
            "Some weights or buffers of the TF 2.0 model TFBertForSequenceClassification were not initialized from the PyTorch model and are newly initialized: ['classifier.weight', 'classifier.bias']\n",
            "You should probably TRAIN this model on a down-stream task to be able to use it for predictions and inference.\n"
          ]
        }
      ]
    },
    {
      "cell_type": "code",
      "source": [
        "print_gpu_utilization()"
      ],
      "metadata": {
        "colab": {
          "base_uri": "https://localhost:8080/"
        },
        "id": "XpeeG5KTmIIA",
        "outputId": "491afeb6-b71b-4c7b-875d-888ec913ff39"
      },
      "execution_count": 7,
      "outputs": [
        {
          "output_type": "stream",
          "name": "stdout",
          "text": [
            "GPU memory occupied: 1398 MB.\n"
          ]
        }
      ]
    },
    {
      "cell_type": "markdown",
      "source": [
        "Two helper functions that help in plotting training loss and accuracy graphs and confusion matrix and other metric calculations"
      ],
      "metadata": {
        "id": "18G-2MqNtEZN"
      }
    },
    {
      "cell_type": "code",
      "source": [
        "def plot_training_curves(name, history):\n",
        "  acc = history.history['accuracy']\n",
        "  # val_acc = history.history['val_acc']\n",
        "  loss = history.history['loss']\n",
        "  # val_loss = history.history['val_loss']\n",
        "\n",
        "  epochs = range(1, len(acc) + 1)\n",
        "\n",
        "  plt.plot(epochs, acc, 'bo', label='Training acc')\n",
        "  # plt.plot(epochs, val_acc, 'b', label='Validation acc')\n",
        "  plt.title('Training accuracy - '+name)\n",
        "  plt.legend()\n",
        "\n",
        "  plt.figure()\n",
        "\n",
        "  plt.plot(epochs, loss, 'bo', label='Training loss')\n",
        "  # plt.plot(epochs, val_loss, 'b', label='Validation loss')\n",
        "  plt.title('Training loss - '+name)\n",
        "  plt.legend()\n",
        "\n",
        "  plt.show()\n",
        "\n",
        "def plot_confusion_matrix_and_show_metrics(true_labels, pred_labels, name):\n",
        "  metrics_to_return = [metrics.accuracy_score(true_labels, pred_labels),\n",
        "                        metrics.f1_score(true_labels, pred_labels),\n",
        "                        metrics.precision_score(true_labels, pred_labels),\n",
        "                        metrics.recall_score(true_labels, pred_labels)]\n",
        "  print(f\"{name} accuracy: {metrics_to_return[0]}\\n{name} f1-score: {metrics_to_return[1]}\\n{name} precision: {metrics_to_return[2]}\\n{name} recall: {metrics_to_return[3]}\")\n",
        "  cm = metrics.confusion_matrix(true_labels, pred_labels)\n",
        "  # Define labels\n",
        "  labels = ['0', '1']\n",
        "\n",
        "  # Plot confusion matrix\n",
        "  plt.figure(figsize=(8, 6))\n",
        "  sns.heatmap(cm, annot=True, cmap='Blues', fmt='g', xticklabels=labels, yticklabels=labels)\n",
        "  plt.xlabel('Predicted labels')\n",
        "  plt.ylabel('True labels')\n",
        "  plt.title('Confusion Matrix - '+name)\n",
        "  plt.show()\n",
        "  return metrics_to_return\n"
      ],
      "metadata": {
        "id": "PwpWuNSlGOu-"
      },
      "execution_count": 8,
      "outputs": []
    },
    {
      "cell_type": "markdown",
      "source": [
        "The code in the next cell contains a function that fine tunes a pretrained model on the gender-bias dataset, and shows the validation loss and accuracy along with confusion matrix and other metrics."
      ],
      "metadata": {
        "id": "kr4605LetS7g"
      }
    },
    {
      "cell_type": "code",
      "source": [
        "def train_and_evaluate(name, model, tokenizer):\n",
        "\n",
        "  def tokenize_dataset(data):\n",
        "      return tokenizer(data['text'])\n",
        "\n",
        "  trainer_ds = train_ds.map(tokenize_dataset)\n",
        "  tester_ds = test_ds.map(tokenize_dataset)\n",
        "\n",
        "  tf_train_dataset = model.prepare_tf_dataset(trainer_ds, batch_size=32, shuffle=True, tokenizer=tokenizer)\n",
        "  tf_test_dataset = model.prepare_tf_dataset(tester_ds, batch_size=32, shuffle=False, tokenizer=tokenizer)\n",
        "\n",
        "  print(model.summary())\n",
        "  model.compile(optimizer=tf.keras.optimizers.Adam(3e-5), metrics=['accuracy'])  # No loss argument!\n",
        "\n",
        "  history = model.fit(tf_train_dataset, epochs=5)\n",
        "  plot_training_curves(name, history)\n",
        "  # model.evaluate(tf_test_dataset)\n",
        "  logits = model.predict(tf_test_dataset).logits\n",
        "  predicted_class_id = tf.math.argmax(logits, axis=-1)\n",
        "  metrics = plot_confusion_matrix_and_show_metrics(test_df['label'], predicted_class_id.numpy(), name)\n",
        "  model_metrics_df.loc[len(model_metrics_df.index)] = [name, metrics[0], metrics[1], metrics[2], metrics[3]]"
      ],
      "metadata": {
        "id": "YBYlVZOyCWWe"
      },
      "execution_count": 9,
      "outputs": []
    },
    {
      "cell_type": "markdown",
      "source": [
        "The next cell contains the for loop which repeats the fine tuning for all models in the list"
      ],
      "metadata": {
        "id": "_0NLA1V6tmt-"
      }
    },
    {
      "cell_type": "code",
      "source": [
        "for (name, tokenizer, model) in tokenizers_and_models:\n",
        "  train_and_evaluate(name, model, tokenizer)"
      ],
      "metadata": {
        "colab": {
          "base_uri": "https://localhost:8080/",
          "height": 1000,
          "referenced_widgets": [
            "5e09f0353d2e45f797ee29256e143431",
            "40ce254562774ad9acbff6ff36fb6f55",
            "f9fbe25b4d5b449c888a38bbc76751af",
            "ebd3630436b041c7a30ce4859d1c49da",
            "98fc8613f69c45e5a223a205a0ba7b1e",
            "eb571658cb6948eea2ca63dbfa7d03ef",
            "e6e243e46071411595fe917fe51812f4",
            "599a46eccb4c4d00be81b8cb35a6a23d",
            "0f62b0a34ead41b2a0642cead271fc12",
            "463b31d8dcbe4c368d619a8cc40ceea5",
            "0a8d6408ca9a4b1d8ec4f1cf7f886d13",
            "9c03c78ab55843a5bbe38fe0ae0aa3dd",
            "1861a20840474e54a5d6cb1681510bca",
            "e1d30dd09cee4c51b3acac0a3c3493d6",
            "a3905fa6bd754e47ae91af26df3d4338",
            "7cb6f8163d51451d99bd5dcfcd4da480",
            "9320227ceda242d092571e7d022777cb",
            "01213f483dff40dba1194a14eee0ae96",
            "e85dd2df0b484bf486fa6556f723499a",
            "9570a9a80ce740ba8d388fda01a7f98b",
            "87241174218146aa983a4bcb509a21c8",
            "3399f243a3fa4bb5a9635ab1feec8803"
          ]
        },
        "id": "XVc2myzxDQOo",
        "outputId": "272cbc4f-be0d-43c0-c348-8adc9c0da6dd"
      },
      "execution_count": 10,
      "outputs": [
        {
          "output_type": "display_data",
          "data": {
            "text/plain": [
              "Map:   0%|          | 0/14352 [00:00<?, ? examples/s]"
            ],
            "application/vnd.jupyter.widget-view+json": {
              "version_major": 2,
              "version_minor": 0,
              "model_id": "5e09f0353d2e45f797ee29256e143431"
            }
          },
          "metadata": {}
        },
        {
          "output_type": "display_data",
          "data": {
            "text/plain": [
              "Map:   0%|          | 0/3588 [00:00<?, ? examples/s]"
            ],
            "application/vnd.jupyter.widget-view+json": {
              "version_major": 2,
              "version_minor": 0,
              "model_id": "9c03c78ab55843a5bbe38fe0ae0aa3dd"
            }
          },
          "metadata": {}
        },
        {
          "output_type": "stream",
          "name": "stderr",
          "text": [
            "You're using a BertTokenizerFast tokenizer. Please note that with a fast tokenizer, using the `__call__` method is faster than using a method to encode the text followed by a call to the `pad` method to get a padded encoding.\n"
          ]
        },
        {
          "output_type": "stream",
          "name": "stdout",
          "text": [
            "Model: \"tf_bert_for_sequence_classification\"\n",
            "_________________________________________________________________\n",
            " Layer (type)                Output Shape              Param #   \n",
            "=================================================================\n",
            " bert (TFBertMainLayer)      multiple                  108310272 \n",
            "                                                                 \n",
            " dropout_37 (Dropout)        multiple                  0         \n",
            "                                                                 \n",
            " classifier (Dense)          multiple                  1538      \n",
            "                                                                 \n",
            "=================================================================\n",
            "Total params: 108311810 (413.18 MB)\n",
            "Trainable params: 108311810 (413.18 MB)\n",
            "Non-trainable params: 0 (0.00 Byte)\n",
            "_________________________________________________________________\n",
            "None\n",
            "Epoch 1/5\n",
            "448/448 [==============================] - 204s 299ms/step - loss: 0.4063 - accuracy: 0.8107\n",
            "Epoch 2/5\n",
            "448/448 [==============================] - 138s 307ms/step - loss: 0.2648 - accuracy: 0.8885\n",
            "Epoch 3/5\n",
            "448/448 [==============================] - 141s 314ms/step - loss: 0.1604 - accuracy: 0.9392\n",
            "Epoch 4/5\n",
            "448/448 [==============================] - 137s 307ms/step - loss: 0.0842 - accuracy: 0.9688\n",
            "Epoch 5/5\n",
            "448/448 [==============================] - 131s 293ms/step - loss: 0.0564 - accuracy: 0.9802\n"
          ]
        },
        {
          "output_type": "display_data",
          "data": {
            "text/plain": [
              "<Figure size 640x480 with 1 Axes>"
            ],
            "image/png": "[encoded data removed]"
          },
          "metadata": {}
        },
        {
          "output_type": "display_data",
          "data": {
            "text/plain": [
              "<Figure size 640x480 with 1 Axes>"
            ],
            "image/png": "[encoded data removed]"
          },
          "metadata": {}
        },
        {
          "output_type": "stream",
          "name": "stdout",
          "text": [
            "113/113 [==============================] - 15s 103ms/step\n",
            "bert accuracy: 0.862597547380156\n",
            "bert f1-score: 0.8660690029883183\n",
            "bert precision: 0.8533190578158458\n",
            "bert recall: 0.8792057363485934\n"
          ]
        },
        {
          "output_type": "display_data",
          "data": {
            "text/plain": [
              "<Figure size 800x600 with 2 Axes>"
            ],
            "image/png": "[encoded data removed]"
          },
          "metadata": {}
        }
      ]
    },
    {
      "cell_type": "code",
      "source": [
        "print_gpu_utilization()"
      ],
      "metadata": {
        "colab": {
          "base_uri": "https://localhost:8080/"
        },
        "id": "fqEbjAsDmLcm",
        "outputId": "d1654680-6e7e-46d6-afbd-d284d7a0efcd"
      },
      "execution_count": 11,
      "outputs": [
        {
          "output_type": "stream",
          "name": "stdout",
          "text": [
            "GPU memory occupied: 8666 MB.\n"
          ]
        }
      ]
    },
    {
      "cell_type": "code",
      "source": [
        "print(model_metrics_df)"
      ],
      "metadata": {
        "id": "TvyiBzcNQ68O",
        "colab": {
          "base_uri": "https://localhost:8080/"
        },
        "outputId": "c07580dd-2144-4e09-a8b6-28d6f7ff42e1"
      },
      "execution_count": 12,
      "outputs": [
        {
          "output_type": "stream",
          "name": "stdout",
          "text": [
            "   name  accuracy  f1-score  precision    recall\n",
            "0  bert  0.862598  0.866069   0.853319  0.879206\n"
          ]
        }
      ]
    },
    {
      "cell_type": "code",
      "source": [],
      "metadata": {
        "id": "mvtFkKanqxcy"
      },
      "execution_count": 12,
      "outputs": []
    }
  ]
}